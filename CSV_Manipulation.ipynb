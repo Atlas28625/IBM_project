{
 "cells": [
  {
   "cell_type": "markdown",
   "id": "gothic-carol",
   "metadata": {},
   "source": [
    "## This file has the code for User Authentication using CSV\n",
    "\n",
    "Build an authentication system that can perform the following\n",
    "tasks:\n",
    "1. Sign-up new user and store the data in a CSV (should raise error message if the user\n",
    "already exists in the CSV)\n",
    "Note: Users should be categorized into Admin or Staff.\n",
    "2.Login using username/email and password ( should validate the details from the CSV and\n",
    "should raise an error on the wrong username or password).\n",
    "3.Forget Password / Change Password\n",
    "a. Generate OTP for Forgot password\n",
    "b. Send OTP on user’s email id on Forget Password\n",
    "c. Change password on verification of OTP (raise an error on the wrong OTP).\n",
    "d. Set OTP expiry validity for 5 minutes.\n",
    "4.Change profile details option\n",
    "5.Build a Regex Pattern Matching tool that will validate the user details from CSV on login /\n",
    "change password /change details request.\n",
    "Refer to the CSV attached for the User DB header:\n",
    "https://drive.google.com/file/d/1yYA6gl2eSimkfCg178xB4L926zF-pdXB/view?us p=sharing\n",
    "\n",
    "**Update the product** : Create a data updating system that will update the product in the\n",
    "existing CSV. The system should perform :\n",
    "1. Only Logged In Admin Users can access this functionality.\n",
    "2.It should ask the product detail CSV file from the user ( Should raise an error if the file is\n",
    "not of type CSV)\n",
    "3.Should merge the new data with existing data and store it as CSV (named Master Product\n",
    "DB) (Note: Prevent multiple or duplicate entries)."
   ]
  },
  {
   "cell_type": "markdown",
   "id": "inner-liquid",
   "metadata": {},
   "source": [
    "### Algorithm\n",
    "\n",
    "1. check_user(username, email, password) : To validate detatils. Returns True if all details match else False\n",
    "\n",
    "2. \n",
    "\n",
    "3. signup() : accepts detatils from the user and checks if the username is already there in the \n",
    "\n",
    "header = []"
   ]
  },
  {
   "cell_type": "code",
   "execution_count": 1,
   "id": "incorrect-seeking",
   "metadata": {},
   "outputs": [],
   "source": [
    "import csv"
   ]
  },
  {
   "cell_type": "code",
   "execution_count": 2,
   "id": "prepared-lease",
   "metadata": {},
   "outputs": [],
   "source": [
    "user_csv = \"User_DB\"\n",
    "user_header = ['User_id', 'Username', 'Email', 'Phone', 'Password', 'Role']\n",
    "\n"
   ]
  },
  {
   "cell_type": "code",
   "execution_count": 3,
   "id": "stock-bennett",
   "metadata": {},
   "outputs": [],
   "source": [
    "# Initializing the database with the header\n",
    "with open(user_csv, 'w') as user_file:\n",
    "    user_writer = csv.writer(user_file)\n",
    "    user_writer.writerow(user_header)\n"
   ]
  },
  {
   "cell_type": "code",
   "execution_count": 4,
   "id": "useful-moment",
   "metadata": {},
   "outputs": [],
   "source": [
    "# Function to display database\n",
    "def display_db(database):\n",
    "    with open(database,'r') as db:\n",
    "        db_reader = csv.reader(db)\n",
    "        for row in db_reader:\n",
    "            print(row)"
   ]
  },
  {
   "cell_type": "code",
   "execution_count": 5,
   "id": "viral-degree",
   "metadata": {},
   "outputs": [],
   "source": [
    "#Function to search for values"
   ]
  },
  {
   "cell_type": "code",
   "execution_count": 6,
   "id": "confident-grocery",
   "metadata": {},
   "outputs": [],
   "source": [
    "#Function to insert values in database\n",
    "def insert_db(database, values):\n",
    "    '''Appends list of values to csv file\n",
    "    \n",
    "    accepts 2 parameters : name of database and list containing values in correct order of header'''\n",
    "    with open(database, 'a') as db:\n",
    "        if type(values) == list:\n",
    "            db_writer = csv.writer(db)\n",
    "            if type(values[0]) == list:\n",
    "                for row in values:\n",
    "                    db_writer.writerow(row)\n",
    "            else:\n",
    "                db_writer.writerow(values)\n",
    "        else:\n",
    "            return False\n",
    "        return True\n",
    "            "
   ]
  },
  {
   "cell_type": "code",
   "execution_count": 7,
   "id": "prepared-listing",
   "metadata": {},
   "outputs": [
    {
     "name": "stdout",
     "output_type": "stream",
     "text": [
      "['User_id', 'Username', 'Email', 'Phone', 'Password', 'Role']\n"
     ]
    }
   ],
   "source": [
    "display_db(user_csv)"
   ]
  },
  {
   "cell_type": "code",
   "execution_count": 8,
   "id": "wrapped-battlefield",
   "metadata": {},
   "outputs": [],
   "source": [
    "#Function to accept values as a list and return it\n"
   ]
  },
  {
   "cell_type": "code",
   "execution_count": 9,
   "id": "sticky-diary",
   "metadata": {},
   "outputs": [],
   "source": [
    "def change_password():\n",
    "    pass\n",
    "def check_db(database, value):\n",
    "    '''Returns list of rows of matching values'''\n",
    "    rows = []\n",
    "    with open(database,'r') as db:\n",
    "        db_reader = csv.reader(db)\n",
    "        for row in db_reader:\n",
    "            if value in row:\n",
    "                rows.append(row)\n",
    "    return rows"
   ]
  },
  {
   "cell_type": "code",
   "execution_count": 18,
   "id": "passive-newark",
   "metadata": {},
   "outputs": [],
   "source": [
    "#Validates user credentials\n",
    "def signin():\n",
    "    '''Checks username, email and password.\n",
    "Returns false if any one is not found'''\n",
    "    choice = -1\n",
    "    error = False\n",
    "    username = input(\"Enter username: \")\n",
    "    rows = check_db(user_csv, username)\n",
    "    for row in rows:\n",
    "        email = input(\"Enter email: \")\n",
    "        if row[2] == email:\n",
    "            password = input(\"Enter password: \")\n",
    "            if row[4] == password:\n",
    "                print(\"Logged in\")\n",
    "                return True\n",
    "            else:\n",
    "                print(\"Wrong password\")\n",
    "        else:\n",
    "            print(\"Email not found\")\n",
    "    else:\n",
    "        print(\"User not found\")\n",
    "    return False\n",
    "            "
   ]
  },
  {
   "cell_type": "code",
   "execution_count": 11,
   "id": "careful-cruise",
   "metadata": {},
   "outputs": [],
   "source": [
    "#Main function, application starts from here\n",
    "def run():\n",
    "    choice = -1\n",
    "    while choice != 3:\n",
    "        choice = int(input(\"1.Sign in \\n2.Sign up \\n3.Exit\\nEnter:\"))\n",
    "        if choice == 1:\n",
    "            if signin():# true if signed in false if error\n",
    "                #Features available after sign in are here\n",
    "                print(\"Logged in\")\n",
    "            else:\n",
    "                print(\"Check credentials or signup for new users\")\n",
    "                if input(\"Forgot password?(y/n)\") == 'y':\n",
    "                    changepassword()\n",
    "        elif choice == 2:\n",
    "            if not signup():# signup returns false if username, email or id is present.\n",
    "                print(\"Name or email or id already present\\nSign in if already have an account\")\n",
    "        elif choice == 3:\n",
    "            break\n",
    "            \n",
    "        else:\n",
    "            print(\"Enter choice between 1 and 3\")"
   ]
  },
  {
   "cell_type": "code",
   "execution_count": 19,
   "id": "federal-framing",
   "metadata": {
    "scrolled": false
   },
   "outputs": [
    {
     "name": "stdout",
     "output_type": "stream",
     "text": [
      "1.Sign in \n",
      "2.Sign up \n",
      "3.Exit\n",
      "Enter:1\n",
      "Enter username: Atmaj\n",
      "Enter email: atmajkoppikar@gmail.com\n",
      "Enter password: A\n",
      "Logged in\n",
      "Logged in\n",
      "1.Sign in \n",
      "2.Sign up \n",
      "3.Exit\n",
      "Enter:1\n",
      "Enter username: Atmaj\n",
      "Enter email: a\n",
      "Email not found\n",
      "Username not found\n",
      "Check credentials or signup for new users\n",
      "Forgot password?(y/n)n\n",
      "1.Sign in \n",
      "2.Sign up \n",
      "3.Exit\n",
      "Enter:1\n",
      "Enter username: Atmaj\n",
      "Enter email: atmajkoppikar@gmail.com\n",
      "Enter password: s\n",
      "Wrong password\n",
      "Username not found\n",
      "Check credentials or signup for new users\n",
      "Forgot password?(y/n)n\n",
      "1.Sign in \n",
      "2.Sign up \n",
      "3.Exit\n",
      "Enter:3\n"
     ]
    }
   ],
   "source": [
    "run()"
   ]
  },
  {
   "cell_type": "code",
   "execution_count": null,
   "id": "structured-leather",
   "metadata": {},
   "outputs": [],
   "source": []
  },
  {
   "cell_type": "code",
   "execution_count": null,
   "id": "provincial-honey",
   "metadata": {},
   "outputs": [],
   "source": [
    "check_db()"
   ]
  },
  {
   "cell_type": "code",
   "execution_count": null,
   "id": "focal-basic",
   "metadata": {},
   "outputs": [],
   "source": []
  },
  {
   "cell_type": "code",
   "execution_count": 17,
   "id": "random-terrace",
   "metadata": {},
   "outputs": [
    {
     "name": "stdout",
     "output_type": "stream",
     "text": [
      "['User_id', 'Username', 'Email', 'Phone', 'Password', 'Role']\n",
      "['5', 'Atmaj', 'atmajkoppikar@gmail.com', '99876543210', 'A', 'Admin']\n",
      "['2', 'B', 'e-mail', '1', 'password', 'User']\n"
     ]
    }
   ],
   "source": [
    "display_db(user_csv)"
   ]
  },
  {
   "cell_type": "code",
   "execution_count": 15,
   "id": "labeled-bubble",
   "metadata": {},
   "outputs": [
    {
     "data": {
      "text/plain": [
       "True"
      ]
     },
     "execution_count": 15,
     "metadata": {},
     "output_type": "execute_result"
    }
   ],
   "source": [
    "insert_db(user_csv,[\n",
    "    [5,'Atmaj','atmajkoppikar@gmail.com','99876543210','A','Admin'],\n",
    "    [2,'B','e-mail',1,'password','User']\n",
    "])"
   ]
  },
  {
   "cell_type": "code",
   "execution_count": 13,
   "id": "golden-expert",
   "metadata": {},
   "outputs": [
    {
     "data": {
      "text/plain": [
       "True"
      ]
     },
     "execution_count": 13,
     "metadata": {},
     "output_type": "execute_result"
    }
   ],
   "source": [
    "type(user_header) == list"
   ]
  }
 ],
 "metadata": {
  "kernelspec": {
   "display_name": "Python 3",
   "language": "python",
   "name": "python3"
  },
  "language_info": {
   "codemirror_mode": {
    "name": "ipython",
    "version": 3
   },
   "file_extension": ".py",
   "mimetype": "text/x-python",
   "name": "python",
   "nbconvert_exporter": "python",
   "pygments_lexer": "ipython3",
   "version": "3.9.1"
  }
 },
 "nbformat": 4,
 "nbformat_minor": 5
}
