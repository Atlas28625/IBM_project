{
 "cells": [
  {
   "cell_type": "markdown",
   "id": "gothic-carol",
   "metadata": {},
   "source": [
    "## This file has the code for User Authentication using CSV\n",
    "\n",
    "Build an authentication system that can perform the following\n",
    "tasks:\n",
    "1. Sign-up new user and store the data in a CSV (should raise error message if the user\n",
    "already exists in the CSV)\n",
    "Note: Users should be categorized into Admin or Staff.\n",
    "2.Login using username/email and password ( should validate the details from the CSV and\n",
    "should raise an error on the wrong username or password).\n",
    "3.Forget Password / Change Password\n",
    "a. Generate OTP for Forgot password\n",
    "b. Send OTP on user’s email id on Forget Password\n",
    "c. Change password on verification of OTP (raise an error on the wrong OTP).\n",
    "d. Set OTP expiry validity for 5 minutes.\n",
    "4.Change profile details option\n",
    "5.Build a Regex Pattern Matching tool that will validate the user details from CSV on login /\n",
    "change password /change details request.\n",
    "Refer to the CSV attached for the User DB header:\n",
    "https://drive.google.com/file/d/1yYA6gl2eSimkfCg178xB4L926zF-pdXB/view?us p=sharing\n",
    "\n",
    "**Update the product** : Create a data updating system that will update the product in the\n",
    "existing CSV. The system should perform :\n",
    "1. Only Logged In Admin Users can access this functionality.\n",
    "2.It should ask the product detail CSV file from the user ( Should raise an error if the file is\n",
    "not of type CSV)\n",
    "3.Should merge the new data with existing data and store it as CSV (named Master Product\n",
    "DB) (Note: Prevent multiple or duplicate entries)."
   ]
  },
  {
   "cell_type": "code",
   "execution_count": 1,
   "id": "incorrect-seeking",
   "metadata": {},
   "outputs": [],
   "source": [
    "import csv"
   ]
  },
  {
   "cell_type": "code",
   "execution_count": 16,
   "id": "prepared-lease",
   "metadata": {},
   "outputs": [],
   "source": [
    "user_csv = \"User_DB\"\n",
    "user_header = ['User_id', 'Username', 'Email', 'Phone', 'Contact', 'Role']"
   ]
  },
  {
   "cell_type": "code",
   "execution_count": null,
   "id": "fallen-argument",
   "metadata": {},
   "outputs": [],
   "source": []
  },
  {
   "cell_type": "code",
   "execution_count": 30,
   "id": "stock-bennett",
   "metadata": {},
   "outputs": [],
   "source": [
    "# Initializing the database with the header\n",
    "with open(user_csv, 'w') as user_file:\n",
    "    user_writer = csv.writer(user_file)\n",
    "    user_writer.writerow(user_header)\n"
   ]
  },
  {
   "cell_type": "code",
   "execution_count": 18,
   "id": "useful-moment",
   "metadata": {},
   "outputs": [],
   "source": [
    "# Function to display database\n",
    "def display_db(database):\n",
    "    with open(database,'r') as db:\n",
    "        db_reader = csv.reader(db)\n",
    "        for row in db_reader:\n",
    "            print(row)"
   ]
  },
  {
   "cell_type": "code",
   "execution_count": 31,
   "id": "split-transaction",
   "metadata": {},
   "outputs": [
    {
     "name": "stdout",
     "output_type": "stream",
     "text": [
      "['User_id', 'Username', 'Email', 'Phone', 'Contact', 'Role']\n"
     ]
    }
   ],
   "source": [
    "display_db(user_csv)"
   ]
  },
  {
   "cell_type": "code",
   "execution_count": 15,
   "id": "stopped-feedback",
   "metadata": {},
   "outputs": [
    {
     "data": {
      "text/plain": [
       "<_csv.writer at 0x103954900>"
      ]
     },
     "execution_count": 15,
     "metadata": {},
     "output_type": "execute_result"
    }
   ],
   "source": []
  },
  {
   "cell_type": "code",
   "execution_count": 10,
   "id": "viral-degree",
   "metadata": {},
   "outputs": [],
   "source": [
    "#Function to search for values"
   ]
  },
  {
   "cell_type": "code",
   "execution_count": 32,
   "id": "confident-grocery",
   "metadata": {},
   "outputs": [],
   "source": [
    "#Function to insert values in database\n",
    "def insert_db(database, values):\n",
    "    with open(database, 'a') as db:\n",
    "        db_writer = csv.writer(db)\n",
    "        db_writer.writerow(values)"
   ]
  },
  {
   "cell_type": "code",
   "execution_count": 33,
   "id": "unusual-entrance",
   "metadata": {},
   "outputs": [
    {
     "ename": "TypeError",
     "evalue": "insert_db() missing 1 required positional argument: 'values'",
     "output_type": "error",
     "traceback": [
      "\u001b[0;31m---------------------------------------------------------------------------\u001b[0m",
      "\u001b[0;31mTypeError\u001b[0m                                 Traceback (most recent call last)",
      "\u001b[0;32m<ipython-input-33-1bd07386e40f>\u001b[0m in \u001b[0;36m<module>\u001b[0;34m\u001b[0m\n\u001b[0;32m----> 1\u001b[0;31m \u001b[0minsert_db\u001b[0m\u001b[0;34m(\u001b[0m\u001b[0muser_csv\u001b[0m\u001b[0;34m)\u001b[0m\u001b[0;34m\u001b[0m\u001b[0;34m\u001b[0m\u001b[0m\n\u001b[0m",
      "\u001b[0;31mTypeError\u001b[0m: insert_db() missing 1 required positional argument: 'values'"
     ]
    }
   ],
   "source": [
    "insert_db(user_csv)"
   ]
  },
  {
   "cell_type": "code",
   "execution_count": null,
   "id": "wrapped-battlefield",
   "metadata": {},
   "outputs": [],
   "source": [
    "#Function to accept values as a list and return it\n"
   ]
  }
 ],
 "metadata": {
  "kernelspec": {
   "display_name": "Python 3",
   "language": "python",
   "name": "python3"
  },
  "language_info": {
   "codemirror_mode": {
    "name": "ipython",
    "version": 3
   },
   "file_extension": ".py",
   "mimetype": "text/x-python",
   "name": "python",
   "nbconvert_exporter": "python",
   "pygments_lexer": "ipython3",
   "version": "3.9.1"
  }
 },
 "nbformat": 4,
 "nbformat_minor": 5
}
